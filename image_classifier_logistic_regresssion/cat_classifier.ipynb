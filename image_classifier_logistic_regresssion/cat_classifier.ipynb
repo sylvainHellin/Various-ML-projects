{
 "cells": [
  {
   "cell_type": "markdown",
   "metadata": {},
   "source": [
    "# Single neuron ANN: logistic regression"
   ]
  },
  {
   "cell_type": "markdown",
   "metadata": {},
   "source": [
    "## Import the external libraries"
   ]
  },
  {
   "cell_type": "code",
   "execution_count": 1,
   "metadata": {},
   "outputs": [],
   "source": [
    "import numpy as np\n",
    "import h5py\n",
    "import matplotlib.pyplot as plt\n",
    "%matplotlib inline\n"
   ]
  },
  {
   "cell_type": "markdown",
   "metadata": {},
   "source": [
    "## Data Preparation"
   ]
  },
  {
   "cell_type": "markdown",
   "metadata": {},
   "source": [
    "### Load the datasets"
   ]
  },
  {
   "cell_type": "code",
   "execution_count": 2,
   "metadata": {},
   "outputs": [],
   "source": [
    "def loadDataset():\n",
    "\t# Train Dataset\n",
    "\tTrainDataset = h5py.File(name=\"datasets/train_catvnoncat.h5\", mode=\"r\")\n",
    "\tX_train = np.array(object=TrainDataset[\"train_set_x\"][:])\n",
    "\tY_train = np.array(object=TrainDataset[\"train_set_y\"][:])\n",
    "\n",
    "\t# Test Dataset\n",
    "\tTestDataset = h5py.File(name=\"datasets/test_catvnoncat.h5\", mode=\"r\")\n",
    "\tX_test = np.array(object=TestDataset[\"test_set_x\"][:])\n",
    "\tY_test = np.array(object=TestDataset[\"test_set_y\"][:])\n",
    "\n",
    "\t# classes\n",
    "\tclasses = np.array(object=TestDataset[\"list_classes\"][:])\n",
    "\n",
    "\treturn X_train, Y_train, X_test,Y_test, classes\n",
    "\n",
    "X_train, Y_train, X_test,Y_test, classes = loadDataset()"
   ]
  },
  {
   "cell_type": "markdown",
   "metadata": {},
   "source": [
    "### Reshape the data"
   ]
  },
  {
   "cell_type": "code",
   "execution_count": 3,
   "metadata": {},
   "outputs": [],
   "source": [
    "def reshape(xtrain: X_train, ytrain: Y_train, xtest:X_test, ytest: Y_test):\n",
    "\tm_train, num_px, num_px, channels = xtrain.shape\n",
    "\tm_test, num_px, num_px, channels = xtest.shape\n",
    "\tfeature_size = num_px*num_px*channels\n",
    "\n",
    "\txtrain = xtrain.reshape(m_train, feature_size)\n",
    "\tytrain = ytrain.reshape(m_train, 1)\n",
    "\txtest = xtest.reshape(m_test, feature_size)\n",
    "\tytest = ytest.reshape(m_test, 1)\n",
    "\n",
    "\txtrain = xtrain.T/255\n",
    "\tytrain = ytrain.T\n",
    "\txtest = xtest.T/255\n",
    "\tytest = ytest.T\n",
    "\n",
    "\tassert(xtrain.shape == (feature_size, m_train))\n",
    "\tassert(ytrain.shape == (1, m_train))\n",
    "\tassert(xtest.shape == (feature_size, m_test))\n",
    "\tassert(ytest.shape == (1, m_test))\n",
    "\n",
    "\treturn xtrain, ytrain, xtest,ytest\n",
    "\n",
    "X_train, Y_train, X_test,Y_test, classes = loadDataset()\n",
    "X_train, Y_train, X_test,Y_test = reshape(xtrain= X_train, ytrain= Y_train, xtest=X_test, ytest= Y_test)\n",
    "M_TRAIN = X_train.shape[1]\n",
    "M_TEST = X_test.shape[1]\n",
    "FEATURES = X_test.shape[0]"
   ]
  },
  {
   "cell_type": "markdown",
   "metadata": {},
   "source": [
    "## Model Training"
   ]
  },
  {
   "cell_type": "markdown",
   "metadata": {},
   "source": [
    "### Helper functions"
   ]
  },
  {
   "cell_type": "code",
   "execution_count": 4,
   "metadata": {},
   "outputs": [],
   "source": [
    "def sigmoid(x):\n",
    "\t'''\n",
    "\tInput: a scalar or Numpy Array \n",
    "\t \n",
    "\tOutput: the Sigmoid of the scalar/Array\n",
    "\t'''\n",
    "\t\n",
    "\treturn 1/(1+np.exp(-x))\n",
    "\n",
    "def lossFunction(y, yhat):\n",
    "\t''' \n",
    "\tReturn the negative log likelihood.\n",
    "\n",
    "\tInput: two scalar or two Numpy Array (of the same dimension)\n",
    "\t \n",
    "\tOutput: the negative log likelihood of the/these samples\n",
    "\t'''\n",
    "\tif 0 or 1 in yhat:\n",
    "\t\tprint(\"problem with yhat\")\n",
    "\t\tprint(yhat)\n",
    "\tNLL = -(y*(np.log(yhat)) + (1-y)*np.log(1-yhat))\n",
    "\tNLL = np.reshape(a=NLL, newshape=(1, -1))\n",
    "\treturn NLL\n",
    "\n",
    "def costFunction(NLL):\n",
    "\t'''\n",
    "\tInput: Numpy Array of the negative log likelihood for a batch \n",
    "\t\n",
    "\tOutput: a Scalar, the total cost\n",
    "\t'''\n",
    "\tm = NLL.shape[1]\n",
    "\tcost = 1/m*np.sum(a=NLL, axis=1, keepdims=False)[0]\n",
    "\treturn float(cost)\n",
    "\n",
    "def printLoss(lossHistory):\n",
    "\tcosts = np.squeeze(lossHistory)\n",
    "\tplt.plot(costs)\n",
    "\tplt.ylabel('cost')\n",
    "\tplt.xlabel('iterations')\n",
    "\tplt.show()"
   ]
  },
  {
   "cell_type": "markdown",
   "metadata": {},
   "source": [
    "### Instanciate the Neural Network"
   ]
  },
  {
   "cell_type": "code",
   "execution_count": 5,
   "metadata": {},
   "outputs": [],
   "source": [
    "def instanciate(features = FEATURES):\n",
    "\t'''\n",
    "\tinstantiate the parameters for one neuron with a specified number of parameters\n",
    "\n",
    "\tInput: number of features\n",
    "\n",
    "\tOutput:\n",
    "\t\t- W: weight [features, 1]\n",
    "\t\t- B: bias, scalar\n",
    "\t'''\n",
    "\t\n",
    "\tW = np.zeros(shape=(features, 1), dtype=np.float16)\n",
    "\tB = 0.\n",
    "\t\n",
    "\treturn W, B"
   ]
  },
  {
   "cell_type": "markdown",
   "metadata": {},
   "source": [
    "### Forward pass"
   ]
  },
  {
   "cell_type": "code",
   "execution_count": 6,
   "metadata": {},
   "outputs": [],
   "source": [
    "def forward(X, Y, W, B):\n",
    "\t'''\n",
    "\tMake a forward pass.\n",
    "\tInput:\n",
    "\t\tX = Features [features, m]\n",
    "\t\tY = True values [1,m]\n",
    "\t\tW = Parameters [features,1]\n",
    "\t\tB = Bias\n",
    "\n",
    "\tOutput: \n",
    "\t\tA = logits (prediction)\n",
    "\t\tJ = Cost of this pass\n",
    "\t\tdw = gradients of parameters\n",
    "\t\tdb = gradient of bias\n",
    "\t'''\n",
    "\tfeatures, m = X.shape\n",
    "\tassert(W.shape == (features, 1))\n",
    "\n",
    "\tZ = W.T@X + B # [1, m] \n",
    "\tA = sigmoid(Z) # [1, m], logits\n",
    "\tL = lossFunction(y=Y, yhat=A) # [1, m]\n",
    "\t\n",
    "\tassert(L.shape == (1,m))\n",
    "\tJ = costFunction(L) # scalar\n",
    "\t\n",
    "\tdw = 1/m*X@(A-Y).T # [features, 1], gradients of W\n",
    "\tassert(dw.shape == W.shape)\n",
    "\t\n",
    "\tdb = float(1/m*(np.sum(a=(A-Y),axis= 1, keepdims=False))[0]) # scalar, gradient of B\n",
    "\tassert(type(db) == float)\n",
    "\t\n",
    "\treturn A, J, dw, db"
   ]
  },
  {
   "cell_type": "markdown",
   "metadata": {},
   "source": [
    "### Backward pass"
   ]
  },
  {
   "cell_type": "code",
   "execution_count": 7,
   "metadata": {},
   "outputs": [],
   "source": [
    "def backward(W, B, dw, db, learningRate = 0.01):\n",
    "\t'''\n",
    "\tUpdate W and B according to the chosen learning rate\n",
    "\n",
    "\tInput:\n",
    "\t\t- W = weights\n",
    "\t\t- B = Bias\n",
    "\t\t- dw = Gradients of W\n",
    "\t\t- db = Gradient of B\n",
    "\t\n",
    "\tOutput:\n",
    "\t\t- W = W updated\n",
    "\t\t- B = B updated \n",
    "\t'''\n",
    "\tW -= learningRate*dw\n",
    "\tB -= learningRate*db\n",
    "\n",
    "\treturn W, B"
   ]
  },
  {
   "cell_type": "markdown",
   "metadata": {},
   "source": [
    "### Gradient descent"
   ]
  },
  {
   "cell_type": "code",
   "execution_count": 8,
   "metadata": {},
   "outputs": [],
   "source": [
    "def gradientDescent(X, Y, W, B, learningRate = 0.01, epoch = 2000, printCost = True):\n",
    "\t'''\n",
    "\tPerform gradient descent for the number of specified epochs.\n",
    "\t\n",
    "\tInputs:\n",
    "\t\t- X: training set [features, m]\n",
    "\t\t- Y: labels []\n",
    "\t\t- W: weights\n",
    "\t\t- B: bias\n",
    "\t\t- learningRate: the chosen learning rate\n",
    "\n",
    "\tOutputs:\n",
    "\t\t- W: the final weights\n",
    "\t\t- B: the final bias\n",
    "\t\t- cost: the history of the cost function\n",
    "\t'''\n",
    "\tcost = []\n",
    "\tfor i in range(epoch):\n",
    "\t\tA, J, dw, db = forward(X, Y, W, B)\n",
    "\t\tW, B = backward(W, B, dw, db, learningRate)\n",
    "\t\tcost.append(J)\n",
    "\t\n",
    "\t\tif i%100 == 0 and printCost:\n",
    "\t\t\tprint(J)\n",
    "\n",
    "\treturn W, B, cost"
   ]
  },
  {
   "cell_type": "markdown",
   "metadata": {},
   "source": [
    "### Create and train the model"
   ]
  },
  {
   "cell_type": "code",
   "execution_count": 9,
   "metadata": {},
   "outputs": [
    {
     "name": "stdout",
     "output_type": "stream",
     "text": [
      "0.6931471805599453\n",
      "0.5845071023165105\n",
      "0.46695781440537376\n",
      "0.3760236771454751\n",
      "0.33146112253094745\n",
      "0.3031976002277628\n",
      "0.2800997648915012\n",
      "0.2606603211577743\n",
      "0.24370077267329615\n",
      "0.22839157922379327\n",
      "0.21421649463014164\n",
      "0.2010838922055257\n",
      "0.18911837269936613\n",
      "0.17851661039173305\n",
      "0.1694385837463483\n",
      "0.16188769219470167\n",
      "0.15575861800767876\n",
      "0.1509913014187976\n",
      "0.14744770323466314\n",
      "0.14505606180850097\n"
     ]
    },
    {
     "data": {
      "image/png": "[encoded data removed]",
      "text/plain": [
       "<Figure size 640x480 with 1 Axes>"
      ]
     },
     "metadata": {},
     "output_type": "display_data"
    }
   ],
   "source": [
    "def model(features = FEATURES, learningRate = 0.0001, epoch = 1000, printCost=True):\n",
    "\tW, B = instanciate(features=FEATURES)\n",
    "\tW, B, cost = gradientDescent(X_train, Y_train,W, B, learningRate, epoch, printCost)\n",
    "\tif printCost:\n",
    "\t\tprintLoss(cost)\n",
    "\treturn [W, B], cost\n",
    "\n",
    "MODEL = model(features=FEATURES, learningRate=0.005, epoch=2000, printCost=True)\n",
    "PARAMETERS = MODEL[0]\n",
    "TRAINING_HISTORY = MODEL[1]"
   ]
  },
  {
   "cell_type": "markdown",
   "metadata": {},
   "source": [
    "## Make prediction"
   ]
  },
  {
   "cell_type": "code",
   "execution_count": 10,
   "metadata": {},
   "outputs": [
    {
     "name": "stdout",
     "output_type": "stream",
     "text": [
      "the train accuracy = 99.04306220095694\n",
      "the test accuracy = 70.0\n"
     ]
    }
   ],
   "source": [
    "def predict(model, X, Y):\n",
    "\tW, B = model[0]\n",
    "\tZ = W.T@X+B\n",
    "\tlogits = sigmoid(Z)\n",
    "\tyhat = ((logits-0.5)>0).astype(np.int8)\n",
    "\taccuracy = 100 - np.mean(np.abs(yhat-Y))*100\n",
    "\treturn yhat, accuracy\n",
    "\n",
    "yhat_train, accuracy_train = predict(MODEL, X_train, Y_train)\n",
    "yhat_test, accuracy_test = predict(MODEL, X_test, Y_test)\n",
    "print(f\"the train accuracy = {accuracy_train}\\nthe test accuracy = {accuracy_test}\")"
   ]
  }
 ],
 "metadata": {
  "kernelspec": {
   "display_name": ".venv",
   "language": "python",
   "name": "python3"
  },
  "language_info": {
   "codemirror_mode": {
    "name": "ipython",
    "version": 3
   },
   "file_extension": ".py",
   "mimetype": "text/x-python",
   "name": "python",
   "nbconvert_exporter": "python",
   "pygments_lexer": "ipython3",
   "version": "3.10.7"
  },
  "orig_nbformat": 4
 },
 "nbformat": 4,
 "nbformat_minor": 2
}
